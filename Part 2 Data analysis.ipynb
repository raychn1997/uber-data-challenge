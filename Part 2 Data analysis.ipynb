{
 "cells": [
  {
   "cell_type": "markdown",
   "metadata": {
    "collapsed": true,
    "pycharm": {
     "name": "#%% md\n"
    }
   },
   "source": [
    "# Part 2 - Data analysis\n",
    "\n",
    "# Context\n",
    "Uber’s Driver team is interested in predicting which driver signups are most likely to\n",
    "start driving. To help explore this question, we have provided a\n",
    "**sample1 dataset of a cohort of driver signups in January 2015**.\n",
    "The data was pulled a few months after they signed up to include the\n",
    "result of whether they actually completed their first trip.\n",
    "It also includes several pieces of background information gather about the driver and their car.\n",
    "\n",
    "We would like you to use this data set to help understand what factors are best at predicting whether\n",
    "a signup will start to drive, and offer suggestions to operationalize those insights to help Uber.\n",
    "\n",
    "See below for a detailed description of the dataset. Please include any code you wrote for the analysis\n",
    "and delete the dataset when you have finished with the challenge. Please also call out any data related\n",
    "assumptions or issues that you encounter.\n",
    "\n",
    "# Question\n",
    "1. Perform any cleaning, exploratory analysis, and/or visualizations to use the provided data for this analysis\n",
    "(a few sentences/plots describing your approach will suffice). **What fraction of the driver signups took a first trip?**\n",
    "\n",
    "2. **Build a predictive model to help Uber determine whether or not a driver signup will start driving**.\n",
    "Discuss why you chose your approach, what alternatives you considered, and any concerns you have.\n",
    "How valid is your model? Include any key indicators of model performance.\n",
    "\n",
    "3. Briefly discuss **how Uber might leverage the insights gained from the model to generate more first trips**\n",
    "(again, a few ideas/sentences will suffice).\n",
    "\n",
    "# Data\n",
    "```python\n",
    "id: driver_id\n",
    "city_id: city_id this user signed up in\n",
    "signup_os: signup device of the user (“android”, “ios”, “website”, “other”)\n",
    "signup_channel: what channel did the driver sign up from (“offline”, “paid”, “organic”, “referral”)\n",
    "signup_timestamp: timestamp of account creation; local time in the form ‘YYYY-MM-DD’\n",
    "bgc_date: date of background check consent; in the form ‘YYYY-MM-DD’\n",
    "vehicle_added_date: date when driver’s vehicle information was uploaded; in the form ‘YYYY-MM-DD’\n",
    "first_completed_date: date of the first trip as a driver; in the form ‘YYYY-MM-DD’\n",
    "vehicle_make: make of vehicle uploaded (i.e. Honda, Ford, Kia)\n",
    "vehicle_model: model of vehicle uploaded (i.e. Accord, Prius, 350z)\n",
    "vehicle_year: year that the car was made; in the form ‘YYYY’\n",
    "```"
   ]
  },
  {
   "cell_type": "markdown",
   "metadata": {
    "pycharm": {
     "name": "#%% md\n"
    }
   },
   "source": [
    "# Solution\n",
    "## Load necessary packages and the data"
   ]
  },
  {
   "cell_type": "code",
   "execution_count": 1,
   "metadata": {
    "pycharm": {
     "name": "#%%"
    }
   },
   "outputs": [],
   "source": [
    "import pandas as pd\n",
    "import matplotlib.pyplot as plt\n",
    "from dtreeviz.trees import dtreeviz\n",
    "from pdpbox import pdp, info_plots\n",
    "\n",
    "from sklearn.model_selection import train_test_split\n",
    "from sklearn.ensemble import RandomForestClassifier\n",
    "from sklearn.metrics import accuracy_score, roc_auc_score\n",
    "from sklearn.metrics import plot_confusion_matrix\n",
    "from sklearn import tree\n",
    "\n",
    "import warnings\n",
    "warnings.filterwarnings(\"ignore\")\n",
    "\n",
    "df = pd.read_csv('data/ds_challenge_v2_1_data.csv',\n",
    "                 index_col=['id'],\n",
    "                 parse_dates=['signup_date', 'bgc_date', 'vehicle_added_date', 'first_completed_date'])"
   ]
  },
  {
   "cell_type": "code",
   "execution_count": 2,
   "metadata": {
    "pycharm": {
     "name": "#%%\n"
    }
   },
   "outputs": [
    {
     "data": {
      "text/plain": "   city_name    signup_os signup_channel signup_date   bgc_date  \\\nid                                                                \n1     Strark      ios web           Paid  2016-01-02        NaT   \n2     Strark      windows           Paid  2016-01-21        NaT   \n3    Wrouver      windows        Organic  2016-01-11 2016-01-11   \n4     Berton  android web       Referral  2016-01-29 2016-02-03   \n5     Strark  android web       Referral  2016-01-10 2016-01-25   \n\n   vehicle_added_date vehicle_make vehicle_model  vehicle_year  \\\nid                                                               \n1                 NaT          NaN           NaN           NaN   \n2                 NaT          NaN           NaN           NaN   \n3                 NaT          NaN           NaN           NaN   \n4          2016-02-03       Toyota       Corolla        2016.0   \n5          2016-01-26      Hyundai        Sonata        2016.0   \n\n   first_completed_date  \nid                       \n1                   NaT  \n2                   NaT  \n3                   NaT  \n4            2016-02-03  \n5                   NaT  ",
      "text/html": "<div>\n<style scoped>\n    .dataframe tbody tr th:only-of-type {\n        vertical-align: middle;\n    }\n\n    .dataframe tbody tr th {\n        vertical-align: top;\n    }\n\n    .dataframe thead th {\n        text-align: right;\n    }\n</style>\n<table border=\"1\" class=\"dataframe\">\n  <thead>\n    <tr style=\"text-align: right;\">\n      <th></th>\n      <th>city_name</th>\n      <th>signup_os</th>\n      <th>signup_channel</th>\n      <th>signup_date</th>\n      <th>bgc_date</th>\n      <th>vehicle_added_date</th>\n      <th>vehicle_make</th>\n      <th>vehicle_model</th>\n      <th>vehicle_year</th>\n      <th>first_completed_date</th>\n    </tr>\n    <tr>\n      <th>id</th>\n      <th></th>\n      <th></th>\n      <th></th>\n      <th></th>\n      <th></th>\n      <th></th>\n      <th></th>\n      <th></th>\n      <th></th>\n      <th></th>\n    </tr>\n  </thead>\n  <tbody>\n    <tr>\n      <th>1</th>\n      <td>Strark</td>\n      <td>ios web</td>\n      <td>Paid</td>\n      <td>2016-01-02</td>\n      <td>NaT</td>\n      <td>NaT</td>\n      <td>NaN</td>\n      <td>NaN</td>\n      <td>NaN</td>\n      <td>NaT</td>\n    </tr>\n    <tr>\n      <th>2</th>\n      <td>Strark</td>\n      <td>windows</td>\n      <td>Paid</td>\n      <td>2016-01-21</td>\n      <td>NaT</td>\n      <td>NaT</td>\n      <td>NaN</td>\n      <td>NaN</td>\n      <td>NaN</td>\n      <td>NaT</td>\n    </tr>\n    <tr>\n      <th>3</th>\n      <td>Wrouver</td>\n      <td>windows</td>\n      <td>Organic</td>\n      <td>2016-01-11</td>\n      <td>2016-01-11</td>\n      <td>NaT</td>\n      <td>NaN</td>\n      <td>NaN</td>\n      <td>NaN</td>\n      <td>NaT</td>\n    </tr>\n    <tr>\n      <th>4</th>\n      <td>Berton</td>\n      <td>android web</td>\n      <td>Referral</td>\n      <td>2016-01-29</td>\n      <td>2016-02-03</td>\n      <td>2016-02-03</td>\n      <td>Toyota</td>\n      <td>Corolla</td>\n      <td>2016.0</td>\n      <td>2016-02-03</td>\n    </tr>\n    <tr>\n      <th>5</th>\n      <td>Strark</td>\n      <td>android web</td>\n      <td>Referral</td>\n      <td>2016-01-10</td>\n      <td>2016-01-25</td>\n      <td>2016-01-26</td>\n      <td>Hyundai</td>\n      <td>Sonata</td>\n      <td>2016.0</td>\n      <td>NaT</td>\n    </tr>\n  </tbody>\n</table>\n</div>"
     },
     "execution_count": 2,
     "metadata": {},
     "output_type": "execute_result"
    }
   ],
   "source": [
    "df.head()"
   ]
  },
  {
   "cell_type": "markdown",
   "metadata": {
    "pycharm": {
     "name": "#%% md\n"
    }
   },
   "source": [
    "## EDA and Data Cleaning\n",
    "Summary:\n",
    "- Records with dates that do not follow the rules are removed:\n",
    "  - Signups must happen first\n",
    "  - Drivers can drive only after finishing their signup, background check and adding their vehicles."
   ]
  },
  {
   "cell_type": "code",
   "execution_count": 3,
   "metadata": {
    "pycharm": {
     "name": "#%%\n"
    }
   },
   "outputs": [
    {
     "name": "stdout",
     "output_type": "stream",
     "text": [
      "Size of Data: (54681, 10)\n",
      "\n",
      "                        Column Types  Number of Nulls  Unique Values\n",
      "city_name                     object                0              3\n",
      "signup_os                     object             6857              5\n",
      "signup_channel                object                0              3\n",
      "signup_date           datetime64[ns]                0             30\n",
      "bgc_date              datetime64[ns]            21785             74\n",
      "vehicle_added_date    datetime64[ns]            41547             78\n",
      "vehicle_make                  object            41458             46\n",
      "vehicle_model                 object            41458            368\n",
      "vehicle_year                 float64            41458             24\n",
      "first_completed_date  datetime64[ns]            48544             57\n",
      "The IDs are unique: True\n"
     ]
    }
   ],
   "source": [
    "# Size of data\n",
    "print('Size of Data:', df.shape)\n",
    "print('')\n",
    "\n",
    "# Null and unique values\n",
    "summary = pd.DataFrame({'Column Types': df.dtypes,\n",
    "                        'Number of Nulls': df.isna().sum(),\n",
    "                        'Unique Values': df.nunique()})\n",
    "print(summary)\n",
    "\n",
    "# Make sure the IDs are unique\n",
    "print('The IDs are unique:', df.index.nunique() == len(df.index))"
   ]
  },
  {
   "cell_type": "code",
   "execution_count": 4,
   "metadata": {
    "pycharm": {
     "name": "#%%\n"
    }
   },
   "outputs": [
    {
     "name": "stdout",
     "output_type": "stream",
     "text": [
      "city_name\n",
      "Strark     29557\n",
      "Berton     20117\n",
      "Wrouver     5007\n",
      "Name: city_name, dtype: int64\n",
      "\n",
      "signup_os\n",
      "ios web        16632\n",
      "android web    14944\n",
      "windows         6776\n",
      "mac             5824\n",
      "other           3648\n",
      "Name: signup_os, dtype: int64\n",
      "\n",
      "signup_channel\n",
      "Paid        23938\n",
      "Referral    17316\n",
      "Organic     13427\n",
      "Name: signup_channel, dtype: int64\n",
      "\n"
     ]
    }
   ],
   "source": [
    "# Check out the few categorical columns with few categories\n",
    "# The other two features, vehicle model/make, have too many categories to check for errors for this challenge\n",
    "cols = ['city_name', 'signup_os', 'signup_channel']\n",
    "for col in cols:\n",
    "    print(col)\n",
    "    print(df[col].value_counts())\n",
    "    print()"
   ]
  },
  {
   "cell_type": "code",
   "execution_count": 5,
   "metadata": {
    "pycharm": {
     "name": "#%%\n"
    }
   },
   "outputs": [
    {
     "name": "stdout",
     "output_type": "stream",
     "text": [
      "signup_date: from 2016-01-01 to 2016-01-30\n",
      "bgc_date: from 2016-01-01 to 2016-03-25\n",
      "vehicle_added_date: from 2016-01-01 to 2016-03-26\n",
      "first_completed_date: from 2016-01-04 to 2016-02-29\n"
     ]
    }
   ],
   "source": [
    "# Check out the few date columns\n",
    "cols = ['signup_date', 'bgc_date', 'vehicle_added_date', 'first_completed_date']\n",
    "for col in cols:\n",
    "    print('{}: from {} to {}'.format(col, df[col].min().date(), df[col].max().date()))\n"
   ]
  },
  {
   "cell_type": "code",
   "execution_count": 6,
   "metadata": {
    "pycharm": {
     "name": "#%%\n"
    }
   },
   "outputs": [
    {
     "name": "stdout",
     "output_type": "stream",
     "text": [
      "Instances where signup_date > bgc_date: 0\n",
      "Instances where signup_date > vehicle_added_date: 1\n",
      "Instances where signup_date > first_completed_date: 0\n",
      "Instances where vehicle_added_date > first_completed_date: 54\n",
      "Instances where bgc_date > first_completed_date: 33\n"
     ]
    }
   ],
   "source": [
    "# A few sanitary checks on dates\n",
    "print('Instances where signup_date > bgc_date:', (df['signup_date']>df['bgc_date']).sum())\n",
    "print('Instances where signup_date > vehicle_added_date:', (df['signup_date']>df['vehicle_added_date']).sum())\n",
    "print('Instances where signup_date > first_completed_date:', (df['signup_date']>df['first_completed_date']).sum())\n",
    "print('Instances where vehicle_added_date > first_completed_date:', (df['vehicle_added_date']>df['first_completed_date']).sum())\n",
    "print('Instances where bgc_date > first_completed_date:', (df['bgc_date']>df['first_completed_date']).sum())"
   ]
  },
  {
   "cell_type": "code",
   "execution_count": 7,
   "metadata": {
    "pycharm": {
     "name": "#%%\n"
    }
   },
   "outputs": [],
   "source": [
    "# Let remove rows that violate the above rules\n",
    "df = df[-(df['signup_date']>df['vehicle_added_date'])][\n",
    "    -(df['vehicle_added_date']>df['first_completed_date'])][\n",
    "    -(df['bgc_date']>df['first_completed_date'])]"
   ]
  },
  {
   "cell_type": "markdown",
   "metadata": {
    "pycharm": {
     "name": "#%% md\n"
    }
   },
   "source": [
    "## Q1. Perform any cleaning, exploratory analysis, and/or visualizations to use the provided data for this analysis\n",
    "(a few sentences/plots describing your approach will suffice). **What fraction of the driver signups took a first trip?**\n",
    "\n",
    "Approach:\n",
    "- Clean up records that do not follow the date rules above\n",
    "- Calculate the **ratio** of the **number of records that have a first completed date** to the\n",
    "**total number of records** in the table."
   ]
  },
  {
   "cell_type": "code",
   "execution_count": 8,
   "metadata": {
    "pycharm": {
     "name": "#%%\n"
    }
   },
   "outputs": [
    {
     "name": "stdout",
     "output_type": "stream",
     "text": [
      "11.10% of the driver signups took a first trip\n"
     ]
    }
   ],
   "source": [
    "ratio = df['first_completed_date'].notna().sum()/len(df)\n",
    "print('{:.2%} of the driver signups took a first trip'.format(ratio))"
   ]
  },
  {
   "cell_type": "markdown",
   "metadata": {
    "pycharm": {
     "name": "#%% md\n"
    }
   },
   "source": [
    "## Q2. Build a predictive model to help Uber determine whether or not a driver signup will start driving.\n",
    "Discuss why you chose your approach, what alternatives you considered, and any concerns you have.\n",
    "How valid is your model? Include any key indicators of model performance.\n",
    "\n",
    "Solution:\n",
    "- Feature Engineering:\n",
    "  - Get day of the week of the signup, the number of days between signups and adding a vehicle, the number of days between signups and the background check\n",
    "  - Fill nulls with -1/Unknown\n",
    "  - Create dummy variables for categorical variables\n",
    "- Modeling:\n",
    "  - At first, I chose Random Forest, because it usually works quite well out of the box. It deals extremely well with correlated variables,\n",
    "  and works well in high dimensions and requires minimum time to be optimized.\n",
    "  - However, **Decision Tree actually outperformed Random Forest in this challenge**, meaning that many variables\n",
    "  are just noise and do not have any predictive power. As a result, I plotted the decision tree(let's call it Decision Tree A).\n",
    "  An interesting remark here:\n",
    "    - If a user does add a vehicle after the signup, the sooner it happens, the more likely it will start to drive.(the whole right branch, and -1 means a user doesn't add any vehicle)\n",
    "![treeA](images/treeA.svg)\n",
    "  - Then I **dropped variables that can be known only after signups**(i.e. background check and adding vehicles), I fitted\n",
    "    another Random Forest(B) and Decision Tree(B). The decision tree B learned nothing from the data (considering the AUC of 0.5).\n",
    "    However, Random Forest B did give us a better-than-random-chance performance. Its PDP plots reveal a few interesting insights:\n",
    "    - Signups in **Wrouver** are 5% less likely to start driving.\n",
    "    - Signups with an **unknown OS** are 40% less likely to start driving. Are they from bot traffic or users with questionable intents?\n",
    "    - **Web signups** are also less likely to start driving by a 5% margin. Are there any UX/UI issues that make it harder to do BG checks/add vehicles/etc?\n",
    "    - **Referrals** perform much better than the signups from other channels. However, paid channels are doing the worst.\n",
    "    - **Weekend traffic** is also slightly less likely to start driving. Perhaps they sign up on a whimp.\n",
    "  - To summary, if we have access to user behavior data(e.g. how long it takes for them to add vehicles), the Decision Tree A model does a good job\n",
    "  with a test accuracy of 93.65% and AUC of 90.47%. However, if we want to predict whether they are going to drive with barely their\n",
    "  data available upon the sign ups, we can use Random Forest B, which has an accuray of 70.35% and AUC of 68.27%.\n"
   ]
  },
  {
   "cell_type": "code",
   "execution_count": 9,
   "outputs": [],
   "source": [
    "# Prepare training data\n",
    "df['signup_day_of_week'] = df['signup_date'].dt.day_of_week.fillna(-1)\n",
    "df['days_between_bgc_signup'] = (df['bgc_date'] - df['signup_date']).dt.days.fillna(-1)\n",
    "df['days_between_add_vehicle_signup'] = (df['vehicle_added_date'] - df['signup_date']).dt.days.fillna(-1)\n",
    "df['vehicle_year'] = df['vehicle_year'].fillna(-1)\n",
    "df = df.fillna('Unknown')\n",
    "\n",
    "# Keep columns of interest\n",
    "cols_x = ['city_name', 'signup_os', 'signup_channel', 'vehicle_year', 'vehicle_model']\n",
    "cols_x += ['signup_day_of_week', 'days_between_bgc_signup', 'days_between_add_vehicle_signup']\n",
    "\n",
    "# Get dummy variables\n",
    "x = pd.get_dummies(df[cols_x])\n",
    "y = df['first_completed_date'] != 'Unknown'"
   ],
   "metadata": {
    "collapsed": false,
    "pycharm": {
     "name": "#%%\n"
    }
   }
  },
  {
   "cell_type": "code",
   "execution_count": 10,
   "metadata": {
    "pycharm": {
     "name": "#%%\n"
    }
   },
   "outputs": [],
   "source": [
    "# A model evaluation helper function\n",
    "def model_pipeline(model, x, y):\n",
    "    # Split training and test data\n",
    "    x_train, x_test, y_train, y_test = train_test_split(x, y, test_size=0.2, random_state=1)\n",
    "\n",
    "    # Fit the model\n",
    "    model.fit(x_train, y_train)\n",
    "\n",
    "    # Performance metrics\n",
    "    print(model)\n",
    "    print()\n",
    "    print('Dummy Test Accuracy: {:.2%}'.format(accuracy_score(y_test, [0] * len(y_test))))\n",
    "    print('Training Accuracy: {:.2%}'.format(accuracy_score(y_train, model.predict(x_train))))\n",
    "    print('Test Accuracy: {:.2%}'.format(accuracy_score(y_test, model.predict(x_test))))\n",
    "\n",
    "    print('Dummy Test AUC: {:.2%}'.format(roc_auc_score(y_test, [0] * len(y_test))))\n",
    "    print('Training AUC: {:.2%}'.format(roc_auc_score(y_train, model.predict(x_train))))\n",
    "    print('Test AUC: {:.2%}'.format(roc_auc_score(y_test, model.predict(x_test))))\n",
    "\n",
    "    plot_confusion_matrix(model, x_train, y_train)\n",
    "    plot_confusion_matrix(model, x_test, y_test)\n",
    "\n",
    "    return model, x_train, x_test, y_train, y_test"
   ]
  },
  {
   "cell_type": "code",
   "execution_count": 11,
   "outputs": [
    {
     "name": "stdout",
     "output_type": "stream",
     "text": [
      "RandomForestClassifier(class_weight='balanced', n_jobs=-1)\n",
      "\n",
      "Dummy Test Accuracy: 88.96%\n",
      "Training Accuracy: 99.47%\n",
      "Test Accuracy: 93.37%\n",
      "Dummy Test AUC: 50.00%\n",
      "Training AUC: 98.98%\n",
      "Test AUC: 86.11%\n"
     ]
    },
    {
     "data": {
      "text/plain": "<Figure size 432x288 with 2 Axes>",
      "image/png": "[encoded data removed]"
     },
     "metadata": {
      "needs_background": "light"
     },
     "output_type": "display_data"
    },
    {
     "data": {
      "text/plain": "<Figure size 432x288 with 2 Axes>",
      "image/png": "[encoded data removed]"
     },
     "metadata": {
      "needs_background": "light"
     },
     "output_type": "display_data"
    }
   ],
   "source": [
    "# Random Forest A\n",
    "model = RandomForestClassifier(n_estimators=100,\n",
    "                               class_weight='balanced',\n",
    "                               n_jobs=-1)\n",
    "\n",
    "model_rfa, x_train, x_test, y_train, y_test = model_pipeline(model, x, y)"
   ],
   "metadata": {
    "collapsed": false,
    "pycharm": {
     "name": "#%%\n"
    }
   }
  },
  {
   "cell_type": "code",
   "execution_count": 12,
   "outputs": [
    {
     "name": "stdout",
     "output_type": "stream",
     "text": [
      "DecisionTreeClassifier(max_depth=3, min_impurity_split=0.001)\n",
      "\n",
      "Dummy Test Accuracy: 88.96%\n",
      "Training Accuracy: 94.08%\n",
      "Test Accuracy: 93.65%\n",
      "Dummy Test AUC: 50.00%\n",
      "Training AUC: 90.74%\n",
      "Test AUC: 90.47%\n"
     ]
    },
    {
     "data": {
      "text/plain": "'/var/folders/68/j99s1lkj7qz5ztbjt3fvh7cw0000gn/T/DTreeViz_42248.svg'"
     },
     "execution_count": 12,
     "metadata": {},
     "output_type": "execute_result"
    },
    {
     "data": {
      "text/plain": "<Figure size 432x288 with 2 Axes>",
      "image/png": "[encoded data removed]"
     },
     "metadata": {
      "needs_background": "light"
     },
     "output_type": "display_data"
    },
    {
     "data": {
      "text/plain": "<Figure size 432x288 with 2 Axes>",
      "image/png": "[encoded data removed]"
     },
     "metadata": {
      "needs_background": "light"
     },
     "output_type": "display_data"
    }
   ],
   "source": [
    "# Decision Tree A\n",
    "model = tree.DecisionTreeClassifier(max_depth=3,\n",
    "                                    min_impurity_split=0.001)\n",
    "\n",
    "model_dta, x_train, x_test, y_train, y_test = model_pipeline(model, x, y)\n",
    "\n",
    "viz = dtreeviz(model,\n",
    "               x_test,\n",
    "               y_test,\n",
    "               target_name='signup',\n",
    "               feature_names=x.columns)\n",
    "\n",
    "viz.save_svg()"
   ],
   "metadata": {
    "collapsed": false,
    "pycharm": {
     "name": "#%%\n"
    }
   }
  },
  {
   "cell_type": "code",
   "execution_count": 13,
   "metadata": {
    "pycharm": {
     "name": "#%%\n"
    }
   },
   "outputs": [
    {
     "name": "stdout",
     "output_type": "stream",
     "text": [
      "RandomForestClassifier(class_weight='balanced', n_jobs=-1)\n",
      "\n",
      "Dummy Test Accuracy: 88.96%\n",
      "Training Accuracy: 70.51%\n",
      "Test Accuracy: 70.35%\n",
      "Dummy Test AUC: 50.00%\n",
      "Training AUC: 68.95%\n",
      "Test AUC: 68.27%\n"
     ]
    },
    {
     "data": {
      "text/plain": "<Figure size 432x288 with 2 Axes>",
      "image/png": "[encoded data removed]"
     },
     "metadata": {
      "needs_background": "light"
     },
     "output_type": "display_data"
    },
    {
     "data": {
      "text/plain": "<Figure size 432x288 with 2 Axes>",
      "image/png": "[encoded data removed]"
     },
     "metadata": {
      "needs_background": "light"
     },
     "output_type": "display_data"
    }
   ],
   "source": [
    "# Random Forest B\n",
    "# Get variables that can be known on the signup day\n",
    "cols_x = ['city_name', 'signup_os', 'signup_channel', 'signup_day_of_week']\n",
    "\n",
    "model = RandomForestClassifier(n_estimators=100,\n",
    "                               class_weight='balanced',\n",
    "                               n_jobs=-1)\n",
    "\n",
    "model_rfb, x_train, x_test, y_train, y_test = model_pipeline(model, pd.get_dummies(df[cols_x]), y)"
   ]
  },
  {
   "cell_type": "code",
   "execution_count": 14,
   "outputs": [
    {
     "name": "stdout",
     "output_type": "stream",
     "text": [
      "DecisionTreeClassifier(max_depth=3, min_impurity_split=0.001)\n",
      "\n",
      "Dummy Test Accuracy: 88.96%\n",
      "Training Accuracy: 88.89%\n",
      "Test Accuracy: 88.96%\n",
      "Dummy Test AUC: 50.00%\n",
      "Training AUC: 50.00%\n",
      "Test AUC: 50.00%\n"
     ]
    },
    {
     "data": {
      "text/plain": "<Figure size 432x288 with 2 Axes>",
      "image/png": "[encoded data removed]"
     },
     "metadata": {
      "needs_background": "light"
     },
     "output_type": "display_data"
    },
    {
     "data": {
      "text/plain": "<Figure size 432x288 with 2 Axes>",
      "image/png": "[encoded data removed]"
     },
     "metadata": {
      "needs_background": "light"
     },
     "output_type": "display_data"
    }
   ],
   "source": [
    "# Decision Tree B\n",
    "# Get variables that can be known on the signup day\n",
    "cols_x = ['city_name', 'signup_os', 'signup_channel', 'signup_day_of_week']\n",
    "x = pd.get_dummies(df[cols_x])\n",
    "\n",
    "model = tree.DecisionTreeClassifier(max_depth=3,\n",
    "                                    min_impurity_split=0.001)\n",
    "\n",
    "model_dtb, x_train, x_test, y_train, y_test = model_pipeline(model, pd.get_dummies(df[cols_x]), y)"
   ],
   "metadata": {
    "collapsed": false,
    "pycharm": {
     "name": "#%%\n"
    }
   }
  },
  {
   "cell_type": "code",
   "execution_count": 15,
   "outputs": [
    {
     "data": {
      "text/plain": "<Figure size 432x288 with 1 Axes>",
      "image/png": "[encoded data removed]"
     },
     "metadata": {
      "needs_background": "light"
     },
     "output_type": "display_data"
    }
   ],
   "source": [
    "# PDP Plot for Random Forest B - City\n",
    "x_reduced = pd.get_dummies(df[cols_x])\n",
    "pdp_iso = pdp.pdp_isolate(model=model_rfb,\n",
    "                          dataset=x_reduced,\n",
    "                          model_features=x_reduced.columns,\n",
    "                          feature=['city_name_Berton', 'city_name_Strark', 'city_name_Wrouver'],\n",
    "                          num_grid_points=50)\n",
    "pdp_dataset = pd.Series(pdp_iso.pdp, index=pdp_iso.display_columns)\n",
    "pdp_dataset.sort_values(ascending=False).plot(kind='bar', title='Partial Plot for City')\n",
    "plt.show()"
   ],
   "metadata": {
    "collapsed": false,
    "pycharm": {
     "name": "#%%\n"
    }
   }
  },
  {
   "cell_type": "code",
   "execution_count": 18,
   "outputs": [
    {
     "data": {
      "text/plain": "<Figure size 432x288 with 1 Axes>",
      "image/png": "[encoded data removed]"
     },
     "metadata": {
      "needs_background": "light"
     },
     "output_type": "display_data"
    }
   ],
   "source": [
    "# PDP Plot for Random Forest B - Signup OS\n",
    "pdp_iso = pdp.pdp_isolate(model=model_rfb,\n",
    "                          dataset=x_reduced,\n",
    "                          model_features=x_reduced.columns,\n",
    "                          feature=['signup_os_Unknown', 'signup_os_android web', 'signup_os_ios web',\n",
    "                                   'signup_os_mac', 'signup_os_other', 'signup_os_windows'],\n",
    "                          num_grid_points=50)\n",
    "pdp_dataset = pd.Series(pdp_iso.pdp, index=pdp_iso.display_columns)\n",
    "pdp_dataset.sort_values(ascending=False).plot(kind='bar', title='Partial Plot for Signup OS')\n",
    "plt.show()"
   ],
   "metadata": {
    "collapsed": false,
    "pycharm": {
     "name": "#%%\n"
    }
   }
  },
  {
   "cell_type": "code",
   "execution_count": 19,
   "outputs": [
    {
     "data": {
      "text/plain": "<Figure size 432x288 with 1 Axes>",
      "image/png": "[encoded data removed]"
     },
     "metadata": {
      "needs_background": "light"
     },
     "output_type": "display_data"
    }
   ],
   "source": [
    "# PDP Plot for Random Forest B - Signup Channel\n",
    "pdp_iso = pdp.pdp_isolate(model=model_rfb,\n",
    "                          dataset=x_reduced,\n",
    "                          model_features=x_reduced.columns,\n",
    "                          feature=['signup_channel_Organic', 'signup_channel_Paid', 'signup_channel_Referral'],\n",
    "                          num_grid_points=50)\n",
    "pdp_dataset = pd.Series(pdp_iso.pdp, index=pdp_iso.display_columns)\n",
    "pdp_dataset.sort_values(ascending=False).plot(kind='bar', title='Partial Plot for Signup Channel')\n",
    "plt.show()"
   ],
   "metadata": {
    "collapsed": false,
    "pycharm": {
     "name": "#%%\n"
    }
   }
  },
  {
   "cell_type": "code",
   "execution_count": 21,
   "outputs": [
    {
     "data": {
      "text/plain": "<Figure size 432x288 with 1 Axes>",
      "image/png": "[encoded data removed]"
     },
     "metadata": {
      "needs_background": "light"
     },
     "output_type": "display_data"
    }
   ],
   "source": [
    "# PDP Plot for Random Forest B - Day of the week\n",
    "pdp_iso = pdp.pdp_isolate(model=model_rfb,\n",
    "                          dataset=x_reduced,\n",
    "                          model_features=x_reduced.columns,\n",
    "                          feature='signup_day_of_week',\n",
    "                          num_grid_points=50)\n",
    "pdp_dataset = pd.Series(pdp_iso.pdp, index=pdp_iso.display_columns)\n",
    "pdp_dataset.plot(kind='bar', title='Partial Plot for signup_day_of_week')\n",
    "plt.show()"
   ],
   "metadata": {
    "collapsed": false,
    "pycharm": {
     "name": "#%%\n"
    }
   }
  },
  {
   "cell_type": "markdown",
   "source": [
    "## Q3. Briefly discuss **how Uber might leverage the insights gained from the model to generate more first trips**\n",
    "\n",
    "- **Prompt signups to add their vehicle as soon as possible**, and streamline the UI/UX so they can be done quick and easily.\n",
    "If they are done within 2 weeks, they have an at least 50% chance of starting driving. After that the chance drops pretty quickly.\n",
    "- The same goes for the **background check**. It should not take long for their check to complete (on Uber's side); otherwise they may lose patience.\n",
    "- Try to get **more signups in Strark and Berton** (assume the marketing cost per signup is the same) because their signups are more likely to drive.\n",
    "- Look into the **mobile web app** as there is likely a **UI/UX issue** that is dragging the first trips down. Try to fix/improve it and then\n",
    "conduct an AB test to see if that helps.\n",
    "- Look into **signups from an unknown OS**. If they are not bots, we can try to improve the UI/UX on their OS.\n",
    "- **Allocate more money to the referral program and SEO** and less to paid channels, which are under-performing and need investigation.\n",
    "- **Show Ads/send emails to potential signups on the weekdays** rather than on the weekends."
   ],
   "metadata": {
    "collapsed": false,
    "pycharm": {
     "name": "#%% md\n"
    }
   }
  }
 ],
 "metadata": {
  "kernelspec": {
   "display_name": "Python 3",
   "language": "python",
   "name": "python3"
  },
  "language_info": {
   "codemirror_mode": {
    "name": "ipython",
    "version": 3
   },
   "file_extension": ".py",
   "mimetype": "text/x-python",
   "name": "python",
   "nbconvert_exporter": "python",
   "pygments_lexer": "ipython3",
   "version": "3.8.6"
  }
 },
 "nbformat": 4,
 "nbformat_minor": 1
}