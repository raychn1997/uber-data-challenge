{
 "cells": [
  {
   "cell_type": "markdown",
   "metadata": {
    "collapsed": true,
    "pycharm": {
     "name": "#%% md\n"
    }
   },
   "source": [
    "# Part 2 - Data analysis\n",
    "*[5 points]*\n",
    "\n",
    "Uber’s Driver team is interested in predicting which driver signups are most likely to\n",
    "start driving. To help explore this question, we have provided a\n",
    "**sample1 dataset of a cohort of driver signups in January 2015**.\n",
    "The data was pulled a few months after they signed up to include the\n",
    "result of whether they actually completed their first trip.\n",
    "It also includes several pieces of background information gather about the driver and their car.\n",
    "\n",
    "We would like you to use this data set to help understand what factors are best at predicting whether\n",
    "a signup will start to drive, and offer suggestions to operationalize those insights to help Uber.\n",
    "\n",
    "See below for a detailed description of the dataset. Please include any code you wrote for the analysis\n",
    "and delete the dataset when you have finished with the challenge. Please also call out any data related\n",
    "assumptions or issues that you encounter.\n",
    "\n",
    "1. Perform any cleaning, exploratory analysis, and/or visualizations to use the provided data for this analysis\n",
    "(a few sentences/plots describing your approach will suffice). **What fraction of the driver signups took a first trip?** (2 points)\n",
    "\n",
    "2. **Build a predictive model to help Uber determine whether or not a driver signup will start driving**.\n",
    "Discuss why you chose your approach, what alternatives you considered, and any concerns you have.\n",
    "How valid is your model? Include any key indicators of model performance. (2 points)\n",
    "\n",
    "3. Briefly discuss **how Uber might leverage the insights gained from the model to generate more first trips**\n",
    "(again, a few ideas/sentences will suffice). (1 point)\n",
    "\n",
    "```python\n",
    "Data description:\n",
    "\n",
    "id: driver_id\n",
    "city_id: city_id this user signed up in\n",
    "signup_os: signup device of the user (“android”, “ios”, “website”, “other”)\n",
    "signup_channel: what channel did the driver sign up from (“offline”, “paid”, “organic”, “referral”)\n",
    "signup_timestamp: timestamp of account creation; local time in the form ‘YYYY-MM-DD’\n",
    "bgc_date: date of background check consent; in the form ‘YYYY-MM-DD’\n",
    "vehicle_added_date: date when driver’s vehicle information was uploaded; in the form ‘YYYY-MM-DD’\n",
    "first_completed_date: date of the first trip as a driver; in the form ‘YYYY-MM-DD’\n",
    "vehicle_make: make of vehicle uploaded (i.e. Honda, Ford, Kia)\n",
    "vehicle_model: model of vehicle uploaded (i.e. Accord, Prius, 350z)\n",
    "vehicle_year: year that the car was made; in the form ‘YYYY’\n",
    "```"
   ]
  },
  {
   "cell_type": "markdown",
   "metadata": {
    "pycharm": {
     "name": "#%% md\n"
    }
   },
   "source": [
    "# 0. Load necessary packages and the data itself"
   ]
  },
  {
   "cell_type": "code",
   "execution_count": 41,
   "metadata": {
    "pycharm": {
     "name": "#%%"
    }
   },
   "outputs": [],
   "source": [
    "import numpy as np\n",
    "import pandas as pd\n",
    "import matplotlib.pyplot as plt\n",
    "\n",
    "from sklearn.model_selection import train_test_split\n",
    "from sklearn.ensemble import RandomForestClassifier\n",
    "from sklearn.metrics import accuracy_score\n",
    "from sklearn.metrics import plot_confusion_matrix"
   ]
  },
  {
   "cell_type": "code",
   "execution_count": 42,
   "metadata": {
    "pycharm": {
     "name": "#%%\n"
    }
   },
   "outputs": [],
   "source": [
    "df = pd.read_csv('data/ds_challenge_v2_1_data.csv',\n",
    "                 index_col=['id'],\n",
    "                 parse_dates=['signup_date', 'bgc_date', 'vehicle_added_date', 'first_completed_date'])"
   ]
  },
  {
   "cell_type": "code",
   "execution_count": 43,
   "metadata": {
    "pycharm": {
     "name": "#%%\n"
    }
   },
   "outputs": [
    {
     "data": {
      "text/plain": "   city_name    signup_os signup_channel signup_date   bgc_date  \\\nid                                                                \n1     Strark      ios web           Paid  2016-01-02        NaT   \n2     Strark      windows           Paid  2016-01-21        NaT   \n3    Wrouver      windows        Organic  2016-01-11 2016-01-11   \n4     Berton  android web       Referral  2016-01-29 2016-02-03   \n5     Strark  android web       Referral  2016-01-10 2016-01-25   \n\n   vehicle_added_date vehicle_make vehicle_model  vehicle_year  \\\nid                                                               \n1                 NaT          NaN           NaN           NaN   \n2                 NaT          NaN           NaN           NaN   \n3                 NaT          NaN           NaN           NaN   \n4          2016-02-03       Toyota       Corolla        2016.0   \n5          2016-01-26      Hyundai        Sonata        2016.0   \n\n   first_completed_date  \nid                       \n1                   NaT  \n2                   NaT  \n3                   NaT  \n4            2016-02-03  \n5                   NaT  ",
      "text/html": "<div>\n<style scoped>\n    .dataframe tbody tr th:only-of-type {\n        vertical-align: middle;\n    }\n\n    .dataframe tbody tr th {\n        vertical-align: top;\n    }\n\n    .dataframe thead th {\n        text-align: right;\n    }\n</style>\n<table border=\"1\" class=\"dataframe\">\n  <thead>\n    <tr style=\"text-align: right;\">\n      <th></th>\n      <th>city_name</th>\n      <th>signup_os</th>\n      <th>signup_channel</th>\n      <th>signup_date</th>\n      <th>bgc_date</th>\n      <th>vehicle_added_date</th>\n      <th>vehicle_make</th>\n      <th>vehicle_model</th>\n      <th>vehicle_year</th>\n      <th>first_completed_date</th>\n    </tr>\n    <tr>\n      <th>id</th>\n      <th></th>\n      <th></th>\n      <th></th>\n      <th></th>\n      <th></th>\n      <th></th>\n      <th></th>\n      <th></th>\n      <th></th>\n      <th></th>\n    </tr>\n  </thead>\n  <tbody>\n    <tr>\n      <th>1</th>\n      <td>Strark</td>\n      <td>ios web</td>\n      <td>Paid</td>\n      <td>2016-01-02</td>\n      <td>NaT</td>\n      <td>NaT</td>\n      <td>NaN</td>\n      <td>NaN</td>\n      <td>NaN</td>\n      <td>NaT</td>\n    </tr>\n    <tr>\n      <th>2</th>\n      <td>Strark</td>\n      <td>windows</td>\n      <td>Paid</td>\n      <td>2016-01-21</td>\n      <td>NaT</td>\n      <td>NaT</td>\n      <td>NaN</td>\n      <td>NaN</td>\n      <td>NaN</td>\n      <td>NaT</td>\n    </tr>\n    <tr>\n      <th>3</th>\n      <td>Wrouver</td>\n      <td>windows</td>\n      <td>Organic</td>\n      <td>2016-01-11</td>\n      <td>2016-01-11</td>\n      <td>NaT</td>\n      <td>NaN</td>\n      <td>NaN</td>\n      <td>NaN</td>\n      <td>NaT</td>\n    </tr>\n    <tr>\n      <th>4</th>\n      <td>Berton</td>\n      <td>android web</td>\n      <td>Referral</td>\n      <td>2016-01-29</td>\n      <td>2016-02-03</td>\n      <td>2016-02-03</td>\n      <td>Toyota</td>\n      <td>Corolla</td>\n      <td>2016.0</td>\n      <td>2016-02-03</td>\n    </tr>\n    <tr>\n      <th>5</th>\n      <td>Strark</td>\n      <td>android web</td>\n      <td>Referral</td>\n      <td>2016-01-10</td>\n      <td>2016-01-25</td>\n      <td>2016-01-26</td>\n      <td>Hyundai</td>\n      <td>Sonata</td>\n      <td>2016.0</td>\n      <td>NaT</td>\n    </tr>\n  </tbody>\n</table>\n</div>"
     },
     "execution_count": 43,
     "metadata": {},
     "output_type": "execute_result"
    }
   ],
   "source": [
    "df.head()"
   ]
  },
  {
   "cell_type": "markdown",
   "metadata": {
    "pycharm": {
     "name": "#%% md\n"
    }
   },
   "source": [
    "# 1. EDA and Data Cleaning\n",
    "Summary:\n",
    "- Records with dates that do not follow the rules are removed"
   ]
  },
  {
   "cell_type": "code",
   "execution_count": 44,
   "metadata": {
    "pycharm": {
     "name": "#%%\n"
    }
   },
   "outputs": [
    {
     "name": "stdout",
     "output_type": "stream",
     "text": [
      "Size of Data: (54681, 10)\n",
      "\n",
      "                        Column Types  Number of Nulls  Unique Values\n",
      "city_name                     object                0              3\n",
      "signup_os                     object             6857              5\n",
      "signup_channel                object                0              3\n",
      "signup_date           datetime64[ns]                0             30\n",
      "bgc_date              datetime64[ns]            21785             74\n",
      "vehicle_added_date    datetime64[ns]            41547             78\n",
      "vehicle_make                  object            41458             46\n",
      "vehicle_model                 object            41458            368\n",
      "vehicle_year                 float64            41458             24\n",
      "first_completed_date  datetime64[ns]            48544             57\n"
     ]
    }
   ],
   "source": [
    "# Size of data\n",
    "print('Size of Data:', df.shape)\n",
    "print('')\n",
    "\n",
    "# Null and unique values\n",
    "summary = pd.DataFrame({'Column Types': df.dtypes,\n",
    "                        'Number of Nulls': df.isna().sum(),\n",
    "                        'Unique Values': df.nunique()})\n",
    "print(summary)"
   ]
  },
  {
   "cell_type": "code",
   "execution_count": 45,
   "metadata": {
    "pycharm": {
     "name": "#%%\n"
    }
   },
   "outputs": [
    {
     "name": "stdout",
     "output_type": "stream",
     "text": [
      "city_name\n",
      "Strark     29557\n",
      "Berton     20117\n",
      "Wrouver     5007\n",
      "Name: city_name, dtype: int64\n",
      "\n",
      "signup_os\n",
      "ios web        16632\n",
      "android web    14944\n",
      "windows         6776\n",
      "mac             5824\n",
      "other           3648\n",
      "Name: signup_os, dtype: int64\n",
      "\n",
      "signup_channel\n",
      "Paid        23938\n",
      "Referral    17316\n",
      "Organic     13427\n",
      "Name: signup_channel, dtype: int64\n",
      "\n"
     ]
    }
   ],
   "source": [
    "# Check out the few categorical columns with few categories\n",
    "# The other two features, vehicle model/make, have too many categories to check for errors for this challenge\n",
    "cols = ['city_name', 'signup_os', 'signup_channel']\n",
    "for col in cols:\n",
    "    print(col)\n",
    "    print(df[col].value_counts())\n",
    "    print()"
   ]
  },
  {
   "cell_type": "code",
   "execution_count": 46,
   "metadata": {
    "pycharm": {
     "name": "#%%\n"
    }
   },
   "outputs": [
    {
     "name": "stdout",
     "output_type": "stream",
     "text": [
      "signup_date: from 2016-01-01 to 2016-01-30\n",
      "bgc_date: from 2016-01-01 to 2016-03-25\n",
      "vehicle_added_date: from 2016-01-01 to 2016-03-26\n",
      "first_completed_date: from 2016-01-04 to 2016-02-29\n"
     ]
    }
   ],
   "source": [
    "# Check out the few date columns\n",
    "cols = ['signup_date', 'bgc_date', 'vehicle_added_date', 'first_completed_date']\n",
    "for col in cols:\n",
    "    print('{}: from {} to {}'.format(col, df[col].min().date(), df[col].max().date()))\n"
   ]
  },
  {
   "cell_type": "code",
   "execution_count": 47,
   "metadata": {
    "pycharm": {
     "name": "#%%\n"
    }
   },
   "outputs": [
    {
     "name": "stdout",
     "output_type": "stream",
     "text": [
      "Instances where signup_date > bgc_date: 0\n",
      "Instances where signup_date > vehicle_added_date: 1\n",
      "Instances where signup_date > first_completed_date: 0\n",
      "Instances where vehicle_added_date > first_completed_date: 54\n",
      "Instances where bgc_date > first_completed_date: 33\n"
     ]
    }
   ],
   "source": [
    "# A few sanitary checks on dates\n",
    "print('Instances where signup_date > bgc_date:', (df['signup_date']>df['bgc_date']).sum())\n",
    "print('Instances where signup_date > vehicle_added_date:', (df['signup_date']>df['vehicle_added_date']).sum())\n",
    "print('Instances where signup_date > first_completed_date:', (df['signup_date']>df['first_completed_date']).sum())\n",
    "print('Instances where vehicle_added_date > first_completed_date:', (df['vehicle_added_date']>df['first_completed_date']).sum())\n",
    "print('Instances where bgc_date > first_completed_date:', (df['bgc_date']>df['first_completed_date']).sum())"
   ]
  },
  {
   "cell_type": "code",
   "execution_count": 48,
   "metadata": {
    "pycharm": {
     "name": "#%%\n"
    }
   },
   "outputs": [
    {
     "name": "stderr",
     "output_type": "stream",
     "text": [
      "<ipython-input-48-e6aa890b3beb>:2: UserWarning: Boolean Series key will be reindexed to match DataFrame index.\n",
      "  df = df[-(df['signup_date']>df['vehicle_added_date'])][\n"
     ]
    }
   ],
   "source": [
    "# Let remove rows that violate the above rules\n",
    "df = df[-(df['signup_date']>df['vehicle_added_date'])][\n",
    "    -(df['vehicle_added_date']>df['first_completed_date'])][\n",
    "    -(df['bgc_date']>df['first_completed_date'])]"
   ]
  },
  {
   "cell_type": "markdown",
   "metadata": {
    "pycharm": {
     "name": "#%% md\n"
    }
   },
   "source": [
    "1. Perform any cleaning, exploratory analysis, and/or visualizations to use the provided data for this analysis\n",
    "(a few sentences/plots describing your approach will suffice). **What fraction of the driver signups took a first trip?** (2 points)"
   ]
  },
  {
   "cell_type": "code",
   "execution_count": 49,
   "metadata": {
    "pycharm": {
     "name": "#%%\n"
    }
   },
   "outputs": [
    {
     "name": "stdout",
     "output_type": "stream",
     "text": [
      "11.10% of the driver signups took a first trip\n"
     ]
    }
   ],
   "source": [
    "ratio = df['first_completed_date'].notna().sum()/len(df)\n",
    "print('{:.2%} of the driver signups took a first trip'.format(ratio))"
   ]
  },
  {
   "cell_type": "markdown",
   "metadata": {
    "pycharm": {
     "name": "#%% md\n"
    }
   },
   "source": [
    "2. **Build a predictive model to help Uber determine whether or not a driver signup will start driving**.\n",
    "Discuss why you chose your approach, what alternatives you considered, and any concerns you have.\n",
    "How valid is your model? Include any key indicators of model performance. (2 points)"
   ]
  },
  {
   "cell_type": "code",
   "execution_count": 50,
   "metadata": {
    "pycharm": {
     "name": "#%%\n"
    }
   },
   "outputs": [],
   "source": [
    "# Prepare training data - Baseline\n",
    "df['signup_day_of_week'] = df['signup_date'].dt.day_of_week.fillna(-1)\n",
    "df['days_between_bgc_signup'] = (df['bgc_date'] - df['signup_date']).dt.days.fillna(-1)\n",
    "df['days_between_add_vehicle_signup'] = (df['vehicle_added_date'] - df['signup_date']).dt.days.fillna(-1)\n",
    "df['vehicle_year'] = df['vehicle_year'].fillna(-1)\n",
    "df = df.fillna('Unknown')\n",
    "\n",
    "cols_x = ['city_name', 'signup_os', 'signup_channel', 'vehicle_year', 'vehicle_model']\n",
    "cols_x += ['signup_day_of_week', 'days_between_bgc_signup', 'days_between_add_vehicle_signup']\n",
    "\n",
    "x = pd.get_dummies(df[cols_x])\n",
    "y = df['first_completed_date'] != 'Unknown'"
   ]
  },
  {
   "cell_type": "code",
   "execution_count": 51,
   "metadata": {
    "pycharm": {
     "name": "#%%\n"
    }
   },
   "outputs": [],
   "source": [
    "# Split training and test data\n",
    "x_train, x_test, y_train, y_test = train_test_split(x, y, test_size=0.2, random_state=1)"
   ]
  },
  {
   "cell_type": "code",
   "execution_count": 52,
   "metadata": {
    "pycharm": {
     "name": "#%%\n"
    }
   },
   "outputs": [
    {
     "data": {
      "text/plain": "RandomForestClassifier(class_weight='balanced', n_jobs=-1, oob_score=True)"
     },
     "execution_count": 52,
     "metadata": {},
     "output_type": "execute_result"
    }
   ],
   "source": [
    "model = RandomForestClassifier(n_estimators=100,\n",
    "                               n_jobs=-1,\n",
    "                               oob_score=True,\n",
    "                               class_weight='balanced')\n",
    "model.fit(x_train, y_train)"
   ]
  },
  {
   "cell_type": "code",
   "execution_count": 53,
   "metadata": {
    "pycharm": {
     "name": "#%%\n"
    }
   },
   "outputs": [
    {
     "name": "stdout",
     "output_type": "stream",
     "text": [
      "Dummy Test Accuracy: 88.96%\n",
      "Training Accuracy: 99.49%\n",
      "Training Accuracy(OOB): 93.64%\n",
      "Test Accuracy: 93.36%\n"
     ]
    }
   ],
   "source": [
    "# This stupid thing is not learning anything!\n",
    "print('Dummy Test Accuracy: {:.2%}'.format(accuracy_score([0] * len(y_test), y_test)))\n",
    "print('Training Accuracy: {:.2%}'.format(accuracy_score(model.predict(x_train), y_train)))\n",
    "print('Training Accuracy(OOB): {:.2%}'.format(accuracy_score(np.argmax(model.oob_decision_function_,axis=1), y_train)))\n",
    "print('Test Accuracy: {:.2%}'.format(accuracy_score(model.predict(x_test), y_test)))"
   ]
  },
  {
   "cell_type": "code",
   "execution_count": 54,
   "metadata": {
    "pycharm": {
     "name": "#%%\n"
    }
   },
   "outputs": [
    {
     "data": {
      "text/plain": "0.12755242193938285"
     },
     "execution_count": 54,
     "metadata": {},
     "output_type": "execute_result"
    }
   ],
   "source": [
    "model.predict(x_test).mean()"
   ]
  },
  {
   "cell_type": "code",
   "execution_count": 55,
   "metadata": {
    "pycharm": {
     "name": "#%%\n"
    }
   },
   "outputs": [
    {
     "data": {
      "text/plain": "<sklearn.metrics._plot.confusion_matrix.ConfusionMatrixDisplay at 0x7fd82629a3d0>"
     },
     "execution_count": 55,
     "metadata": {},
     "output_type": "execute_result"
    },
    {
     "data": {
      "text/plain": "<Figure size 432x288 with 2 Axes>",
      "image/png": "[encoded data removed]"
     },
     "metadata": {
      "needs_background": "light"
     },
     "output_type": "display_data"
    }
   ],
   "source": [
    "plot_confusion_matrix(model, x_train, y_train)"
   ]
  },
  {
   "cell_type": "code",
   "execution_count": 56,
   "metadata": {
    "pycharm": {
     "name": "#%%\n"
    }
   },
   "outputs": [
    {
     "data": {
      "text/plain": "<sklearn.metrics._plot.confusion_matrix.ConfusionMatrixDisplay at 0x7fd8242095e0>"
     },
     "execution_count": 56,
     "metadata": {},
     "output_type": "execute_result"
    },
    {
     "data": {
      "text/plain": "<Figure size 432x288 with 2 Axes>",
      "image/png": "[encoded data removed]"
     },
     "metadata": {
      "needs_background": "light"
     },
     "output_type": "display_data"
    }
   ],
   "source": [
    "plot_confusion_matrix(model, x_test, y_test)"
   ]
  },
  {
   "cell_type": "markdown",
   "metadata": {
    "pycharm": {
     "name": "#%% md\n"
    }
   },
   "source": [
    "And RF can deal extremely well with correlated variables. Also, RF works well in high dimensions and requires minimum time to be optimized."
   ]
  },
  {
   "cell_type": "code",
   "execution_count": 57,
   "metadata": {
    "pycharm": {
     "name": "#%%\n"
    }
   },
   "outputs": [
    {
     "name": "stdout",
     "output_type": "stream",
     "text": [
      "Dummy Test Accuracy: 88.96%\n",
      "Training Accuracy: 94.08%\n",
      "Test Accuracy: 93.65%\n"
     ]
    }
   ],
   "source": [
    "from sklearn import tree\n",
    "model = tree.DecisionTreeClassifier(max_depth=3)\n",
    "model.fit(x_train, y_train)\n",
    "# This stupid thing is not learning anything!\n",
    "print('Dummy Test Accuracy: {:.2%}'.format(accuracy_score([0] * len(y_test), y_test)))\n",
    "print('Training Accuracy: {:.2%}'.format(accuracy_score(model.predict(x_train), y_train)))\n",
    "print('Test Accuracy: {:.2%}'.format(accuracy_score(model.predict(x_test), y_test)))"
   ]
  },
  {
   "cell_type": "code",
   "execution_count": 58,
   "metadata": {
    "pycharm": {
     "name": "#%%\n"
    }
   },
   "outputs": [
    {
     "data": {
      "text/plain": "       vehicle_year  signup_day_of_week  days_between_bgc_signup  \\\nid                                                                 \n1              -1.0                   5                     -1.0   \n2              -1.0                   3                     -1.0   \n3              -1.0                   0                      0.0   \n4            2016.0                   4                      5.0   \n5            2016.0                   6                     15.0   \n...             ...                 ...                      ...   \n54677          -1.0                   4                     -1.0   \n54678          -1.0                   3                     -1.0   \n54679          -1.0                   2                     -1.0   \n54680          -1.0                   0                     -1.0   \n54681          -1.0                   2                     -1.0   \n\n       days_between_add_vehicle_signup  city_name_Berton  city_name_Strark  \\\nid                                                                           \n1                                 -1.0                 0                 1   \n2                                 -1.0                 0                 1   \n3                                 -1.0                 0                 0   \n4                                  5.0                 1                 0   \n5                                 16.0                 0                 1   \n...                                ...               ...               ...   \n54677                             -1.0                 0                 1   \n54678                             -1.0                 0                 1   \n54679                             -1.0                 0                 1   \n54680                             -1.0                 1                 0   \n54681                             -1.0                 1                 0   \n\n       city_name_Wrouver  signup_os_Unknown  signup_os_android web  \\\nid                                                                   \n1                      0                  0                      0   \n2                      0                  0                      0   \n3                      1                  0                      0   \n4                      0                  0                      1   \n5                      0                  0                      1   \n...                  ...                ...                    ...   \n54677                  0                  0                      0   \n54678                  0                  0                      0   \n54679                  0                  0                      0   \n54680                  0                  0                      1   \n54681                  0                  0                      0   \n\n       signup_os_ios web  ...  vehicle_model_ZDX  vehicle_model_Zephyr  \\\nid                        ...                                            \n1                      1  ...                  0                     0   \n2                      0  ...                  0                     0   \n3                      0  ...                  0                     0   \n4                      0  ...                  0                     0   \n5                      0  ...                  0                     0   \n...                  ...  ...                ...                   ...   \n54677                  0  ...                  0                     0   \n54678                  0  ...                  0                     0   \n54679                  1  ...                  0                     0   \n54680                  0  ...                  0                     0   \n54681                  1  ...                  0                     0   \n\n       vehicle_model_e-Golf  vehicle_model_i3  vehicle_model_iA  \\\nid                                                                \n1                         0                 0                 0   \n2                         0                 0                 0   \n3                         0                 0                 0   \n4                         0                 0                 0   \n5                         0                 0                 0   \n...                     ...               ...               ...   \n54677                     0                 0                 0   \n54678                     0                 0                 0   \n54679                     0                 0                 0   \n54680                     0                 0                 0   \n54681                     0                 0                 0   \n\n       vehicle_model_iM  vehicle_model_tC  vehicle_model_xA  vehicle_model_xB  \\\nid                                                                              \n1                     0                 0                 0                 0   \n2                     0                 0                 0                 0   \n3                     0                 0                 0                 0   \n4                     0                 0                 0                 0   \n5                     0                 0                 0                 0   \n...                 ...               ...               ...               ...   \n54677                 0                 0                 0                 0   \n54678                 0                 0                 0                 0   \n54679                 0                 0                 0                 0   \n54680                 0                 0                 0                 0   \n54681                 0                 0                 0                 0   \n\n       vehicle_model_xD  \nid                       \n1                     0  \n2                     0  \n3                     0  \n4                     0  \n5                     0  \n...                 ...  \n54677                 0  \n54678                 0  \n54679                 0  \n54680                 0  \n54681                 0  \n\n[54604 rows x 385 columns]",
      "text/html": "<div>\n<style scoped>\n    .dataframe tbody tr th:only-of-type {\n        vertical-align: middle;\n    }\n\n    .dataframe tbody tr th {\n        vertical-align: top;\n    }\n\n    .dataframe thead th {\n        text-align: right;\n    }\n</style>\n<table border=\"1\" class=\"dataframe\">\n  <thead>\n    <tr style=\"text-align: right;\">\n      <th></th>\n      <th>vehicle_year</th>\n      <th>signup_day_of_week</th>\n      <th>days_between_bgc_signup</th>\n      <th>days_between_add_vehicle_signup</th>\n      <th>city_name_Berton</th>\n      <th>city_name_Strark</th>\n      <th>city_name_Wrouver</th>\n      <th>signup_os_Unknown</th>\n      <th>signup_os_android web</th>\n      <th>signup_os_ios web</th>\n      <th>...</th>\n      <th>vehicle_model_ZDX</th>\n      <th>vehicle_model_Zephyr</th>\n      <th>vehicle_model_e-Golf</th>\n      <th>vehicle_model_i3</th>\n      <th>vehicle_model_iA</th>\n      <th>vehicle_model_iM</th>\n      <th>vehicle_model_tC</th>\n      <th>vehicle_model_xA</th>\n      <th>vehicle_model_xB</th>\n      <th>vehicle_model_xD</th>\n    </tr>\n    <tr>\n      <th>id</th>\n      <th></th>\n      <th></th>\n      <th></th>\n      <th></th>\n      <th></th>\n      <th></th>\n      <th></th>\n      <th></th>\n      <th></th>\n      <th></th>\n      <th></th>\n      <th></th>\n      <th></th>\n      <th></th>\n      <th></th>\n      <th></th>\n      <th></th>\n      <th></th>\n      <th></th>\n      <th></th>\n      <th></th>\n    </tr>\n  </thead>\n  <tbody>\n    <tr>\n      <th>1</th>\n      <td>-1.0</td>\n      <td>5</td>\n      <td>-1.0</td>\n      <td>-1.0</td>\n      <td>0</td>\n      <td>1</td>\n      <td>0</td>\n      <td>0</td>\n      <td>0</td>\n      <td>1</td>\n      <td>...</td>\n      <td>0</td>\n      <td>0</td>\n      <td>0</td>\n      <td>0</td>\n      <td>0</td>\n      <td>0</td>\n      <td>0</td>\n      <td>0</td>\n      <td>0</td>\n      <td>0</td>\n    </tr>\n    <tr>\n      <th>2</th>\n      <td>-1.0</td>\n      <td>3</td>\n      <td>-1.0</td>\n      <td>-1.0</td>\n      <td>0</td>\n      <td>1</td>\n      <td>0</td>\n      <td>0</td>\n      <td>0</td>\n      <td>0</td>\n      <td>...</td>\n      <td>0</td>\n      <td>0</td>\n      <td>0</td>\n      <td>0</td>\n      <td>0</td>\n      <td>0</td>\n      <td>0</td>\n      <td>0</td>\n      <td>0</td>\n      <td>0</td>\n    </tr>\n    <tr>\n      <th>3</th>\n      <td>-1.0</td>\n      <td>0</td>\n      <td>0.0</td>\n      <td>-1.0</td>\n      <td>0</td>\n      <td>0</td>\n      <td>1</td>\n      <td>0</td>\n      <td>0</td>\n      <td>0</td>\n      <td>...</td>\n      <td>0</td>\n      <td>0</td>\n      <td>0</td>\n      <td>0</td>\n      <td>0</td>\n      <td>0</td>\n      <td>0</td>\n      <td>0</td>\n      <td>0</td>\n      <td>0</td>\n    </tr>\n    <tr>\n      <th>4</th>\n      <td>2016.0</td>\n      <td>4</td>\n      <td>5.0</td>\n      <td>5.0</td>\n      <td>1</td>\n      <td>0</td>\n      <td>0</td>\n      <td>0</td>\n      <td>1</td>\n      <td>0</td>\n      <td>...</td>\n      <td>0</td>\n      <td>0</td>\n      <td>0</td>\n      <td>0</td>\n      <td>0</td>\n      <td>0</td>\n      <td>0</td>\n      <td>0</td>\n      <td>0</td>\n      <td>0</td>\n    </tr>\n    <tr>\n      <th>5</th>\n      <td>2016.0</td>\n      <td>6</td>\n      <td>15.0</td>\n      <td>16.0</td>\n      <td>0</td>\n      <td>1</td>\n      <td>0</td>\n      <td>0</td>\n      <td>1</td>\n      <td>0</td>\n      <td>...</td>\n      <td>0</td>\n      <td>0</td>\n      <td>0</td>\n      <td>0</td>\n      <td>0</td>\n      <td>0</td>\n      <td>0</td>\n      <td>0</td>\n      <td>0</td>\n      <td>0</td>\n    </tr>\n    <tr>\n      <th>...</th>\n      <td>...</td>\n      <td>...</td>\n      <td>...</td>\n      <td>...</td>\n      <td>...</td>\n      <td>...</td>\n      <td>...</td>\n      <td>...</td>\n      <td>...</td>\n      <td>...</td>\n      <td>...</td>\n      <td>...</td>\n      <td>...</td>\n      <td>...</td>\n      <td>...</td>\n      <td>...</td>\n      <td>...</td>\n      <td>...</td>\n      <td>...</td>\n      <td>...</td>\n      <td>...</td>\n    </tr>\n    <tr>\n      <th>54677</th>\n      <td>-1.0</td>\n      <td>4</td>\n      <td>-1.0</td>\n      <td>-1.0</td>\n      <td>0</td>\n      <td>1</td>\n      <td>0</td>\n      <td>0</td>\n      <td>0</td>\n      <td>0</td>\n      <td>...</td>\n      <td>0</td>\n      <td>0</td>\n      <td>0</td>\n      <td>0</td>\n      <td>0</td>\n      <td>0</td>\n      <td>0</td>\n      <td>0</td>\n      <td>0</td>\n      <td>0</td>\n    </tr>\n    <tr>\n      <th>54678</th>\n      <td>-1.0</td>\n      <td>3</td>\n      <td>-1.0</td>\n      <td>-1.0</td>\n      <td>0</td>\n      <td>1</td>\n      <td>0</td>\n      <td>0</td>\n      <td>0</td>\n      <td>0</td>\n      <td>...</td>\n      <td>0</td>\n      <td>0</td>\n      <td>0</td>\n      <td>0</td>\n      <td>0</td>\n      <td>0</td>\n      <td>0</td>\n      <td>0</td>\n      <td>0</td>\n      <td>0</td>\n    </tr>\n    <tr>\n      <th>54679</th>\n      <td>-1.0</td>\n      <td>2</td>\n      <td>-1.0</td>\n      <td>-1.0</td>\n      <td>0</td>\n      <td>1</td>\n      <td>0</td>\n      <td>0</td>\n      <td>0</td>\n      <td>1</td>\n      <td>...</td>\n      <td>0</td>\n      <td>0</td>\n      <td>0</td>\n      <td>0</td>\n      <td>0</td>\n      <td>0</td>\n      <td>0</td>\n      <td>0</td>\n      <td>0</td>\n      <td>0</td>\n    </tr>\n    <tr>\n      <th>54680</th>\n      <td>-1.0</td>\n      <td>0</td>\n      <td>-1.0</td>\n      <td>-1.0</td>\n      <td>1</td>\n      <td>0</td>\n      <td>0</td>\n      <td>0</td>\n      <td>1</td>\n      <td>0</td>\n      <td>...</td>\n      <td>0</td>\n      <td>0</td>\n      <td>0</td>\n      <td>0</td>\n      <td>0</td>\n      <td>0</td>\n      <td>0</td>\n      <td>0</td>\n      <td>0</td>\n      <td>0</td>\n    </tr>\n    <tr>\n      <th>54681</th>\n      <td>-1.0</td>\n      <td>2</td>\n      <td>-1.0</td>\n      <td>-1.0</td>\n      <td>1</td>\n      <td>0</td>\n      <td>0</td>\n      <td>0</td>\n      <td>0</td>\n      <td>1</td>\n      <td>...</td>\n      <td>0</td>\n      <td>0</td>\n      <td>0</td>\n      <td>0</td>\n      <td>0</td>\n      <td>0</td>\n      <td>0</td>\n      <td>0</td>\n      <td>0</td>\n      <td>0</td>\n    </tr>\n  </tbody>\n</table>\n<p>54604 rows × 385 columns</p>\n</div>"
     },
     "execution_count": 58,
     "metadata": {},
     "output_type": "execute_result"
    }
   ],
   "source": [
    "x"
   ]
  },
  {
   "cell_type": "code",
   "execution_count": 59,
   "outputs": [],
   "source": [
    "\n",
    "from dtreeviz.trees import dtreeviz"
   ],
   "metadata": {
    "collapsed": false,
    "pycharm": {
     "name": "#%%\n"
    }
   }
  },
  {
   "cell_type": "code",
   "execution_count": 60,
   "metadata": {
    "pycharm": {
     "name": "#%%\n"
    }
   },
   "outputs": [
    {
     "data": {
      "text/plain": "'/var/folders/68/j99s1lkj7qz5ztbjt3fvh7cw0000gn/T/DTreeViz_32783.svg'"
     },
     "execution_count": 60,
     "metadata": {},
     "output_type": "execute_result"
    }
   ],
   "source": [
    "viz = dtreeviz(model,\n",
    "               x_test,\n",
    "               y_test,\n",
    "               target_name='price',\n",
    "               feature_names=x.columns)\n",
    "\n",
    "viz.save_svg()"
   ]
  },
  {
   "cell_type": "code",
   "execution_count": 95,
   "metadata": {},
   "outputs": [],
   "source": [
    "df2 = df\n",
    "df2['lr_days_between_bgc_signup'] = df2['days_between_bgc_signup'] < 0\n",
    "df2['lr_days_between_add_vehicle_signup'] = df2['days_between_add_vehicle_signup'] < 0\n",
    "df2['lr_signup_channel_Referral'] = df2['signup_channel'] == 'Referral'\n",
    "df2['lr_signup_os_Unknown'] = df2['signup_os'] == 'Unknown'\n",
    "df2['vehicle_year>2000'] = df2['vehicle_year']>2000\n",
    "df2['vehicle_year==-1'] = df2['vehicle_year']==-1"
   ]
  },
  {
   "cell_type": "code",
   "execution_count": 114,
   "outputs": [],
   "source": [
    "x = df2[['lr_days_between_add_vehicle_signup',\n",
    "         'lr_days_between_bgc_signup',\n",
    "         'days_between_add_vehicle_signup',\n",
    "         'vehicle_year>2000',\n",
    "         'vehicle_year==-1']]\n",
    "y = df['first_completed_date'] != 'Unknown'\n",
    "# Split training and test data\n",
    "x_train, x_test, y_train, y_test = train_test_split(x, y, test_size=0.2, random_state=1)"
   ],
   "metadata": {
    "collapsed": false,
    "pycharm": {
     "name": "#%%\n"
    }
   }
  },
  {
   "cell_type": "code",
   "execution_count": 112,
   "outputs": [
    {
     "name": "stdout",
     "output_type": "stream",
     "text": [
      "Dummy Test Accuracy: 88.96%\n",
      "Training Accuracy: 94.37%\n",
      "Test Accuracy: 94.05%\n"
     ]
    }
   ],
   "source": [
    "from sklearn.linear_model import LogisticRegression\n",
    "model = LogisticRegression()\n",
    "model.fit(x_train, y_train)\n",
    "# This stupid thing is not learning anything!\n",
    "print('Dummy Test Accuracy: {:.2%}'.format(accuracy_score([0] * len(y_test), y_test)))\n",
    "print('Training Accuracy: {:.2%}'.format(accuracy_score(model.predict(x_train), y_train)))\n",
    "print('Test Accuracy: {:.2%}'.format(accuracy_score(model.predict(x_test), y_test)))"
   ],
   "metadata": {
    "collapsed": false,
    "pycharm": {
     "name": "#%%\n"
    }
   }
  },
  {
   "cell_type": "code",
   "execution_count": 104,
   "outputs": [
    {
     "data": {
      "text/plain": "0.1199523853127003"
     },
     "execution_count": 104,
     "metadata": {},
     "output_type": "execute_result"
    }
   ],
   "source": [
    "model.predict(x_test).mean()"
   ],
   "metadata": {
    "collapsed": false,
    "pycharm": {
     "name": "#%%\n"
    }
   }
  },
  {
   "cell_type": "code",
   "execution_count": 105,
   "outputs": [
    {
     "data": {
      "text/plain": "<sklearn.metrics._plot.confusion_matrix.ConfusionMatrixDisplay at 0x7fd82444f7c0>"
     },
     "execution_count": 105,
     "metadata": {},
     "output_type": "execute_result"
    },
    {
     "data": {
      "text/plain": "<Figure size 432x288 with 2 Axes>",
      "image/png": "[encoded data removed]"
     },
     "metadata": {
      "needs_background": "light"
     },
     "output_type": "display_data"
    }
   ],
   "source": [
    "plot_confusion_matrix(model, x_train, y_train)"
   ],
   "metadata": {
    "collapsed": false,
    "pycharm": {
     "name": "#%%\n"
    }
   }
  },
  {
   "cell_type": "code",
   "execution_count": 80,
   "outputs": [
    {
     "data": {
      "text/plain": "['city_name',\n 'signup_os',\n 'signup_channel',\n 'signup_date',\n 'bgc_date',\n 'vehicle_added_date',\n 'vehicle_make',\n 'vehicle_model',\n 'vehicle_year',\n 'first_completed_date',\n 'signup_day_of_week',\n 'days_between_bgc_signup',\n 'days_between_add_vehicle_signup',\n 'lr_days_between_bgc_signup',\n 'lr_days_between_add_vehicle_signup',\n 'lr_signup_channel_Referral',\n 'lr_signup_os_Unknown']"
     },
     "execution_count": 80,
     "metadata": {},
     "output_type": "execute_result"
    },
    {
     "data": {
      "text/plain": "<Figure size 432x288 with 2 Axes>",
      "image/png": "[encoded data removed]"
     },
     "metadata": {
      "needs_background": "light"
     },
     "output_type": "display_data"
    }
   ],
   "source": [
    "plot_confusion_matrix(model, x_test, y_test)\n",
    "df2.columns.to_list()"
   ],
   "metadata": {
    "collapsed": false,
    "pycharm": {
     "name": "#%%\n"
    }
   }
  },
  {
   "cell_type": "code",
   "execution_count": 113,
   "outputs": [
    {
     "data": {
      "text/plain": "       lr_days_between_add_vehicle_signup  lr_days_between_bgc_signup  \\\nid                                                                      \n1                                    True                        True   \n2                                    True                        True   \n3                                    True                       False   \n4                                   False                       False   \n5                                   False                       False   \n...                                   ...                         ...   \n54677                                True                        True   \n54678                                True                        True   \n54679                                True                        True   \n54680                                True                        True   \n54681                                True                        True   \n\n       days_between_add_vehicle_signup  vehicle_year>2000  vehicle_year==-1  \\\nid                                                                            \n1                                 -1.0              False              True   \n2                                 -1.0              False              True   \n3                                 -1.0              False              True   \n4                                  5.0               True             False   \n5                                 16.0               True             False   \n...                                ...                ...               ...   \n54677                             -1.0              False              True   \n54678                             -1.0              False              True   \n54679                             -1.0              False              True   \n54680                             -1.0              False              True   \n54681                             -1.0              False              True   \n\n            log  \nid               \n1      1.098612  \n2      1.098612  \n3      1.098612  \n4      0.693147  \n5      0.693147  \n...         ...  \n54677  1.098612  \n54678  1.098612  \n54679  1.098612  \n54680  1.098612  \n54681  1.098612  \n\n[54604 rows x 6 columns]",
      "text/html": "<div>\n<style scoped>\n    .dataframe tbody tr th:only-of-type {\n        vertical-align: middle;\n    }\n\n    .dataframe tbody tr th {\n        vertical-align: top;\n    }\n\n    .dataframe thead th {\n        text-align: right;\n    }\n</style>\n<table border=\"1\" class=\"dataframe\">\n  <thead>\n    <tr style=\"text-align: right;\">\n      <th></th>\n      <th>lr_days_between_add_vehicle_signup</th>\n      <th>lr_days_between_bgc_signup</th>\n      <th>days_between_add_vehicle_signup</th>\n      <th>vehicle_year&gt;2000</th>\n      <th>vehicle_year==-1</th>\n      <th>log</th>\n    </tr>\n    <tr>\n      <th>id</th>\n      <th></th>\n      <th></th>\n      <th></th>\n      <th></th>\n      <th></th>\n      <th></th>\n    </tr>\n  </thead>\n  <tbody>\n    <tr>\n      <th>1</th>\n      <td>True</td>\n      <td>True</td>\n      <td>-1.0</td>\n      <td>False</td>\n      <td>True</td>\n      <td>1.098612</td>\n    </tr>\n    <tr>\n      <th>2</th>\n      <td>True</td>\n      <td>True</td>\n      <td>-1.0</td>\n      <td>False</td>\n      <td>True</td>\n      <td>1.098612</td>\n    </tr>\n    <tr>\n      <th>3</th>\n      <td>True</td>\n      <td>False</td>\n      <td>-1.0</td>\n      <td>False</td>\n      <td>True</td>\n      <td>1.098612</td>\n    </tr>\n    <tr>\n      <th>4</th>\n      <td>False</td>\n      <td>False</td>\n      <td>5.0</td>\n      <td>True</td>\n      <td>False</td>\n      <td>0.693147</td>\n    </tr>\n    <tr>\n      <th>5</th>\n      <td>False</td>\n      <td>False</td>\n      <td>16.0</td>\n      <td>True</td>\n      <td>False</td>\n      <td>0.693147</td>\n    </tr>\n    <tr>\n      <th>...</th>\n      <td>...</td>\n      <td>...</td>\n      <td>...</td>\n      <td>...</td>\n      <td>...</td>\n      <td>...</td>\n    </tr>\n    <tr>\n      <th>54677</th>\n      <td>True</td>\n      <td>True</td>\n      <td>-1.0</td>\n      <td>False</td>\n      <td>True</td>\n      <td>1.098612</td>\n    </tr>\n    <tr>\n      <th>54678</th>\n      <td>True</td>\n      <td>True</td>\n      <td>-1.0</td>\n      <td>False</td>\n      <td>True</td>\n      <td>1.098612</td>\n    </tr>\n    <tr>\n      <th>54679</th>\n      <td>True</td>\n      <td>True</td>\n      <td>-1.0</td>\n      <td>False</td>\n      <td>True</td>\n      <td>1.098612</td>\n    </tr>\n    <tr>\n      <th>54680</th>\n      <td>True</td>\n      <td>True</td>\n      <td>-1.0</td>\n      <td>False</td>\n      <td>True</td>\n      <td>1.098612</td>\n    </tr>\n    <tr>\n      <th>54681</th>\n      <td>True</td>\n      <td>True</td>\n      <td>-1.0</td>\n      <td>False</td>\n      <td>True</td>\n      <td>1.098612</td>\n    </tr>\n  </tbody>\n</table>\n<p>54604 rows × 6 columns</p>\n</div>"
     },
     "execution_count": 113,
     "metadata": {},
     "output_type": "execute_result"
    }
   ],
   "source": [
    "# Narrative between the models\n",
    "# A comprehensive evaluation function"
   ],
   "metadata": {
    "collapsed": false,
    "pycharm": {
     "name": "#%%\n"
    }
   }
  }
 ],
 "metadata": {
  "kernelspec": {
   "display_name": "Python 3",
   "language": "python",
   "name": "python3"
  },
  "language_info": {
   "codemirror_mode": {
    "name": "ipython",
    "version": 3
   },
   "file_extension": ".py",
   "mimetype": "text/x-python",
   "name": "python",
   "nbconvert_exporter": "python",
   "pygments_lexer": "ipython3",
   "version": "3.8.6"
  }
 },
 "nbformat": 4,
 "nbformat_minor": 1
}